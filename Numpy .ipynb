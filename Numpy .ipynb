{
 "cells": [
  {
   "cell_type": "markdown",
   "id": "d7457ed9-30e2-4817-b966-aada55d570f9",
   "metadata": {},
   "source": [
    "Theoretical Questions:"
   ]
  },
  {
   "cell_type": "markdown",
   "id": "067b412c-6b80-4091-8bfa-6014bdafd5af",
   "metadata": {},
   "source": [
    "Numpy Assignment"
   ]
  },
  {
   "cell_type": "markdown",
   "id": "cedab5c5-e3db-4d0b-b30c-87a90f274604",
   "metadata": {},
   "source": [
    "1. Explain the purpose and advantages of NumPy in scientific computing and data analysis. How does it \n",
    "enhance Python's capabilities for numerical operations?"
   ]
  },
  {
   "cell_type": "code",
   "execution_count": 104,
   "id": "d7d3c9a6-82a8-4cf5-9d90-5d736c195daf",
   "metadata": {},
   "outputs": [],
   "source": [
    "#NumPy, short for Numerical Python, is a fundamental library in Python for scientific computing and data analysis. Its main purpose is to provide support for large, multi-dimensional arrays and matrices, along with a collection of mathematical functions to operate on these data structures. Here are some key purposes and advantages of NumPy:\n",
    "\n",
    "# Purpose of NumPy\n",
    "#1. **Array Operations**: NumPy introduces the `ndarray` object, which is a fast and flexible container for large data sets in Python. This array is more efficient than Python's built-in lists for numerical operations.\n",
    "#2. **Mathematical Functions**: It provides a wide range of mathematical functions to perform operations on arrays, including element-wise operations, linear algebra, statistical functions, and more.\n",
    "#3. **Interoperability**: NumPy is designed to integrate seamlessly with other libraries and tools in the scientific computing ecosystem, such as SciPy, Matplotlib, and Pandas.\n",
    "\n",
    "# Advantages of NumPy\n",
    "#1. **Performance**: NumPy arrays are implemented in C, allowing for faster computations compared to standard Python lists. Operations on NumPy arrays are typically vectorized, meaning they are executed in compiled code, leading to significant performance improvements.\n",
    "#2. **Memory Efficiency**: NumPy arrays consume less memory compared to Python lists because they store data in a contiguous block of memory and support a variety of data types.\n",
    "#3. **Ease of Use**: The library provides a high-level interface that simplifies complex mathematical operations. Users can perform operations on entire arrays without writing loops, which leads to cleaner and more readable code.\n",
    "#4. **Broad Functionality**: NumPy supports a comprehensive set of functions for mathematical operations, random number generation, Fourier transforms, and linear algebra, making it a versatile tool for a wide range of scientific applications.\n",
    "#5. **Broadcasting**: NumPy's broadcasting feature allows for arithmetic operations between arrays of different shapes, making it easy to perform operations without needing to manually reshape arrays.\n",
    "#6. **Integration with Other Libraries**: NumPy serves as the foundation for many other scientific computing libraries in Python. For instance, Pandas uses NumPy for its data structures, and many machine learning libraries (like TensorFlow and scikit-learn) rely on NumPy for efficient computation.\n",
    "# Enhancing Python's Capabilities\n",
    "#Overall, NumPy significantly enhances Python's capabilities for numerical operations by providing efficient data structures and functions that allow for fast and easy manipulation of large datasets. This makes Python a powerful tool for scientists, engineers, and data analysts who require robust numerical analysis and data processing capabilities."
   ]
  },
  {
   "cell_type": "markdown",
   "id": "4e7d0a60-74f7-4bc6-989d-ef3a4e05c82d",
   "metadata": {},
   "source": [
    "2. Compare and contrast np.mean() and np.average() functions in NumPy. When would you use one over the \n",
    "other?"
   ]
  },
  {
   "cell_type": "code",
   "execution_count": 106,
   "id": "b74bd27f-e930-4a0a-be75-dbabd5358ab8",
   "metadata": {},
   "outputs": [],
   "source": [
    "#In NumPy, both `np.mean()` and `np.average()` are used to compute the average of array elements, but they have some differences in functionality and usage. Here’s a comparison:\n",
    "\n",
    "# `np.mean()`\n",
    "#**Functionality**: Computes the arithmetic mean of the elements along the specified axis. It simply sums up all the elements and divides by the count of elements.\n",
    "#**Syntax**: `np.mean(a, axis=None, dtype=None, out=None, keepdims=False)`\n",
    "#**Use Case**: Use `np.mean()` when you want to calculate the mean value of an array or along a specific axis without any additional weighting. It's straightforward and efficient for standard mean calculations.\n",
    "\n",
    "# `np.average()`\n",
    "#**Functionality**: Computes the weighted average of the elements. You can specify weights for the elements, allowing for more flexibility in how the average is computed.\n",
    "#**Syntax**: `np.average(a, axis=None, weights=None, returned=False)`\n",
    "#**Use Case**: Use `np.average()` when you need to compute an average where certain values contribute more than others. This is particularly useful in cases where you have different levels of importance or frequency for the elements in your dataset.\n",
    "\n",
    "# Key Differences\n",
    "#1. **Weights**: \n",
    "   #`np.mean()` does not allow for weights; all elements are treated equally.\n",
    "   #`np.average()` allows for an optional `weights` parameter, enabling you to specify how much influence each element has on the average.\n",
    "\n",
    "#2. **Return Value**: \n",
    "   #Both functions return the computed average, but `np.average()` can return a tuple if `returned=True`, providing both the average and the sum of the weights.\n",
    "\n",
    "#When to Use Which\n",
    "#**Use `np.mean()`** when:\n",
    "  # You need a quick and standard mean calculation.\n",
    "  # All data points are equally important.\n",
    "\n",
    "#**Use `np.average()`** when:\n",
    "  # You need to consider weights for the data points.\n",
    "  # You're dealing with datasets where certain values should have more influence on the average (e.g., weighted scores)."
   ]
  },
  {
   "cell_type": "markdown",
   "id": "29a7b236-1d8b-4cf2-bf92-d9ba3f844c04",
   "metadata": {},
   "source": [
    "3. Describe the methods for reversing a NumPy array along different axes. Provide examples for 1D and 2D \n",
    "arrays"
   ]
  },
  {
   "cell_type": "code",
   "execution_count": 108,
   "id": "e7baa34b-7042-49c3-8a7e-eae7e7b1d279",
   "metadata": {},
   "outputs": [],
   "source": [
    "#Reversing a NumPy array can be done easily using slicing or specific functions. \n",
    "#Here’s how you can reverse arrays along different axes, with examples for both 1D and 2D arrays.\n",
    "\n",
    "# Reversing a 1D Array\n",
    "#For a one-dimensional array, you can reverse the array using slicing.\n",
    "\n",
    "# Example:\n",
    "\n",
    "import numpy as np\n",
    "\n",
    "array_1d = np.array([1, 2, 3, 4, 5])\n",
    "reversed_1d = array_1d[::-1]\n",
    "\n",
    "\n",
    "# Reversing a 2D Array\n",
    "#For a two-dimensional array, you can reverse along specific axes using slicing.\n",
    "\n",
    "# Example:\n",
    "\n",
    "array_2d = np.array([[1, 2, 3],\n",
    "                     [4, 5, 6],\n",
    "                     [7, 8, 9]])\n",
    "reversed_2d = array_2d[::-1]"
   ]
  },
  {
   "cell_type": "code",
   "execution_count": 109,
   "id": "1a618845-c868-4b14-994c-6aa1fad926d4",
   "metadata": {},
   "outputs": [
    {
     "name": "stdout",
     "output_type": "stream",
     "text": [
      "[5 4 3 2 1]\n"
     ]
    }
   ],
   "source": [
    "print(reversed_1d)"
   ]
  },
  {
   "cell_type": "code",
   "execution_count": 110,
   "id": "821dc1b2-a3f6-4b37-9de9-9a9f4d8fc4c2",
   "metadata": {},
   "outputs": [
    {
     "name": "stdout",
     "output_type": "stream",
     "text": [
      "[[7 8 9]\n",
      " [4 5 6]\n",
      " [1 2 3]]\n"
     ]
    }
   ],
   "source": [
    "print(reversed_2d)"
   ]
  },
  {
   "cell_type": "markdown",
   "id": "7904187e-e985-4bcc-b7a4-2b1b1306f936",
   "metadata": {},
   "source": [
    "4. How can you determine the data type of elements in a NumPy array? Discuss the importance of data types \n",
    "in memory management and performance."
   ]
  },
  {
   "cell_type": "code",
   "execution_count": 112,
   "id": "b65df314-e92f-44c7-b2d3-a02db9178518",
   "metadata": {},
   "outputs": [],
   "source": [
    "#In NumPy, you can determine the data type of elements in an array using the .dtype attribute of the array. \n",
    "#Importance of Data Types\n",
    "#Memory Management:\n",
    "#Each data type in NumPy corresponds to a specific size in memory. For example, an int32 occupies 4 bytes, while an int64 occupies 8 bytes. Using the appropriate data type can significantly reduce memory usage, especially when dealing with large datasets.\n",
    "#Choosing the right data type ensures that you don’t waste memory; for instance, if you only need values between 0 and 255, using np.uint8 (1 byte) is more efficient than using np.int64 (8 bytes).\n",
    "\n",
    "#Performance:\n",
    "#The performance of numerical computations can be impacted by data types. Operations on smaller data types (like float32 vs. float64) can be faster due to reduced computational overhead. However, the precision of calculations may also vary, so it's essential to balance speed and accuracy.\n",
    "#NumPy uses optimized C libraries for operations on arrays. The choice of data type can influence how effectively these optimizations apply.\n",
    "\n",
    "#Type Safety:\n",
    "#Data types provide a level of type safety. For example, if you expect an array to contain integers, using a float or complex number can lead to unexpected behavior or errors in calculations.\n",
    "#Compatibility:\n",
    "\n",
    "#When performing operations between arrays, NumPy automatically handles type promotion (e.g., adding an integer array to a float array results in a float array). Understanding the data types involved is crucial for predicting the outcome of such operations"
   ]
  },
  {
   "cell_type": "markdown",
   "id": "a112a7fa-77c9-404b-9481-70cba81e70f9",
   "metadata": {},
   "source": [
    "5. Define ndarrays in NumPy and explain their key features. How do they differ from standard Python lists?\n"
   ]
  },
  {
   "cell_type": "code",
   "execution_count": 114,
   "id": "94f6aa8d-087a-4a56-bd9a-86a45631e843",
   "metadata": {},
   "outputs": [],
   "source": [
    "#In NumPy, **ndarrays** (n-dimensional arrays) are the core data structure used to store and manipulate numerical data. They are similar to Python lists but have several key features that make them more suitable for scientific computing and data analysis.\n",
    "\n",
    "# Key Features of ndarrays\n",
    "\n",
    "#1. **Homogeneous Data Type**: \n",
    "#  - All elements in a NumPy ndarray must be of the same data type (e.g., all integers, all floats). This is different from Python lists, which can hold mixed data types.\n",
    "\n",
    "#2. **Multidimensional**: \n",
    " #  - ndarrays can be one-dimensional (like vectors), two-dimensional (like matrices), or multi-dimensional (tensors). This flexibility allows for complex data representations.\n",
    "\n",
    "#3. **Contiguous Memory**:\n",
    " #  - ndarrays are stored in a contiguous block of memory, which enhances performance for numerical computations compared to Python lists that are composed of pointers to objects scattered in memory.\n",
    "\n",
    "#4. **Vectorized Operations**:\n",
    " #  - NumPy allows for element-wise operations on arrays without the need for explicit loops. This is possible due to its ability to perform operations in a vectorized manner, which leads to more concise code and faster execution.\n",
    "\n",
    "#5. **Broadcasting**:\n",
    " #  - ndarrays support broadcasting, which allows for arithmetic operations between arrays of different shapes. This feature simplifies code and reduces the need for manual alignment of shapes.\n",
    "\n",
    "#6. **Rich Functionality**:\n",
    " #  - NumPy provides a vast library of mathematical functions, linear algebra operations, statistical functions, and more, which are optimized for performance and can be applied directly to ndarrays.\n",
    "\n",
    "#7. **Shape and Size**:\n",
    " #  - ndarrays have a shape attribute that provides the dimensions of the array (e.g., shape `(3, 4)` for a 2D array with 3 rows and 4 columns) and a size attribute that gives the total number of elements.\n",
    "\n",
    "# Differences from Standard Python Lists\n",
    "\n",
    "#1. **Type Consistency**:\n",
    " #  - **ndarrays**: Must be homogeneous (same data type).\n",
    "  # - **Python lists**: Can be heterogeneous (mixed data types).\n",
    "\n",
    "#2. **Performance**:\n",
    " #  - **ndarrays**: Optimized for performance with faster array operations due to contiguous memory storage and low-level optimizations.\n",
    "  # - **Python lists**: Slower for numerical computations as they are not optimized for such tasks.\n",
    "\n",
    "#3. **Functionality**:\n",
    " #  - **ndarrays**: Provide a wide range of built-in functions for mathematical operations and array manipulation.\n",
    "  # - **Python lists**: Require explicit loops and list comprehensions for numerical operations.\n",
    "\n",
    "#4. **Memory Efficiency**:\n",
    " #  - **ndarrays**: More memory-efficient for large datasets because of their fixed data type and contiguous memory allocation.\n",
    "  # - **Python lists**: Can consume more memory due to overhead associated with storing references to objects.\n",
    "\n",
    "#5. **Data Manipulation**:\n",
    " #  - **ndarrays**: Support advanced features like slicing, reshaping, and broadcasting.\n",
    "  # - **Python lists**: Have basic indexing and slicing capabilities, but less efficient for reshaping and multi-dimensional manipulations."
   ]
  },
  {
   "cell_type": "markdown",
   "id": "45bcc995-3a87-476a-9afe-218eabff8860",
   "metadata": {},
   "source": [
    "6. Analyze the performance benefits of NumPy arrays over Python lists for large-scale numerical operations."
   ]
  },
  {
   "cell_type": "code",
   "execution_count": 123,
   "id": "78a43489-d227-4922-8bdf-aa6f6d193eda",
   "metadata": {},
   "outputs": [],
   "source": [
    "#NumPy arrays provide several performance benefits over Python lists, particularly for large-scale numerical operations. Here’s a detailed analysis of these advantages:\n",
    "\n",
    "# 1. **Memory Efficiency**\n",
    "#- **Contiguous Memory Allocation**: NumPy arrays are stored in contiguous blocks of memory. This means that all elements are stored next to each other, reducing overhead and improving cache performance. In contrast, Python lists are composed of pointers to objects scattered throughout memory, which can lead to higher memory consumption and fragmentation.\n",
    "#- **Fixed Data Type**: NumPy arrays are homogeneous, meaning all elements are of the same data type. This allows NumPy to use a more compact representation (e.g., `int32`, `float64`), whereas Python lists can hold objects of different types, increasing memory usage.\n",
    "\n",
    "# 2. **Speed of Operations**\n",
    "#- **Vectorization**: NumPy allows for vectorized operations, meaning that arithmetic operations can be applied to entire arrays at once without the need for explicit loops. This is typically implemented in optimized C code, resulting in significant speed improvements. In contrast, operations on Python lists often require looping through each element, which is slower.\n",
    "\n",
    "# 3. **Broadcasting**\n",
    "#- **Ease of Use and Performance**: NumPy supports broadcasting, which allows for operations between arrays of different shapes without the need for manual replication of data. This reduces the need for additional memory allocation and can lead to performance gains during operations.\n",
    "\n",
    "# 4. **Built-in Functions**\n",
    "#- **Optimized Libraries**: NumPy comes with a wide array of built-in functions that are highly optimized for performance. These functions take advantage of low-level optimizations and parallelism, allowing for faster execution than equivalent Python code using loops.\n",
    "\n",
    "# 5. **Reduced Overhead**\n",
    "#- **Function Call Overhead**: When working with Python lists, each operation often involves additional overhead due to the dynamic nature of lists and the need for Python's object management. NumPy's fixed-type, homogeneous arrays reduce this overhead, leading to faster execution times.\n",
    "\n",
    "# 6. **Multi-threading and Parallelization**\n",
    "#- **Integration with Libraries**: NumPy can leverage optimized libraries such as BLAS (Basic Linear Algebra Subprograms) and LAPACK (Linear Algebra Package) that support multi-threading and vectorization. This can significantly speed up operations, especially for large datasets.\n"
   ]
  },
  {
   "cell_type": "markdown",
   "id": "11eaf4a6-8bde-4bc2-a133-20ad19544fc8",
   "metadata": {},
   "source": [
    "7. Compare vstack() and hstack() functions in NumPy. Provide examples demonstrating their usage and \n",
    "output."
   ]
  },
  {
   "cell_type": "code",
   "execution_count": 126,
   "id": "eaf7d5d7-efe7-4560-a6a9-2cce360665b3",
   "metadata": {},
   "outputs": [],
   "source": [
    "#In NumPy, `vstack()` and `hstack()` are functions used to stack arrays vertically and horizontally, respectively. They allow you to combine multiple arrays along a specified axis, which is useful for constructing larger arrays from smaller ones.\n",
    "\n",
    "### `vstack()`\n",
    "#- **Purpose**: Stacks arrays in sequence vertically (row-wise). This means that the input arrays are stacked on top of each other.\n",
    "#- **Axis**: The stacking occurs along the first axis (axis 0).\n",
    "\n",
    "# `hstack()`\n",
    "#- **Purpose**: Stacks arrays in sequence horizontally (column-wise). This means that the input arrays are placed side by side.\n",
    "#- **Axis**: The stacking occurs along the second axis (axis 1)."
   ]
  },
  {
   "cell_type": "code",
   "execution_count": 128,
   "id": "fafb1cb6-aa0e-4107-a454-d8ce1a6f79a7",
   "metadata": {},
   "outputs": [
    {
     "name": "stdout",
     "output_type": "stream",
     "text": [
      "Result of vstack:\n",
      "[[1 2]\n",
      " [3 4]\n",
      " [5 6]\n",
      " [7 8]]\n"
     ]
    }
   ],
   "source": [
    "import numpy as np\n",
    "\n",
    "# `vstack()`\n",
    "array1 = np.array([[1, 2], [3, 4]])\n",
    "array2 = np.array([[5, 6], [7, 8]])\n",
    "\n",
    "result_vstack = np.vstack((array1, array2))\n",
    "\n",
    "print(\"Result of vstack:\")\n",
    "print(result_vstack)"
   ]
  },
  {
   "cell_type": "code",
   "execution_count": 130,
   "id": "bea3bf52-568e-4a61-8d0c-4ae41ee47398",
   "metadata": {},
   "outputs": [
    {
     "name": "stdout",
     "output_type": "stream",
     "text": [
      "Result of hstack:\n",
      "[[1 2 5 6]\n",
      " [3 4 7 8]]\n"
     ]
    }
   ],
   "source": [
    "# `hstack()`\n",
    "result_hstack = np.hstack((array1, array2))\n",
    "\n",
    "print(\"Result of hstack:\")\n",
    "print(result_hstack)"
   ]
  },
  {
   "cell_type": "markdown",
   "id": "6ff673b6-3049-46bb-92de-84b375f6958c",
   "metadata": {},
   "source": [
    "8. Explain the differences between fliplr() and flipud() methods in NumPy, including their effects on various \n",
    "array dimensions"
   ]
  },
  {
   "cell_type": "code",
   "execution_count": 133,
   "id": "16672dbf-b821-45c5-9b42-cd5d070efdb3",
   "metadata": {},
   "outputs": [],
   "source": [
    "#In NumPy, the `fliplr()` and `flipud()` methods are used to flip arrays along different axes. They are useful for reversing the order of elements along rows (left-right) or columns (up-down), depending on the direction of the flip.\n",
    "\n",
    "# `fliplr()` – Flip Left-Right (Horizontally)\n",
    "#- **Purpose**: The `fliplr()` method flips an array **left to right** along the second axis (axis 1), meaning the columns are reversed.\n",
    "#- **Effect**: This method reverses the order of elements in each row (but does not change the rows themselves).\n",
    "\n",
    "\n",
    "# `flipud()` – Flip Up-Down (Vertically)\n",
    "#- **Purpose**: The `flipud()` method flips an array **up to down** along the first axis (axis 0), meaning the rows are reversed.\n",
    "# **Effect**: This method reverses the order of rows but does not change the order of elements within each row.\n",
    "\n",
    "#As shown, the `flipud()` method reverses the order of the rows, flipping the entire array vertically.\n",
    "\n",
    "# Differences Between `fliplr()` and `flipud()`\n",
    "#- **Axis of Operation**:\n",
    " # - **`fliplr()`** flips the array horizontally along axis 1 (reverses the columns).\n",
    "  #- **`flipud()`** flips the array vertically along axis 0 (reverses the rows).\n",
    "  \n",
    "#- **Effect on Array Dimensions**:\n",
    " # - **1D arrays**: \n",
    "  #  - `fliplr()` and `flipud()` behave the same on 1D arrays since the only axis is axis 0, and flipping horizontally or vertically is equivalent.\n",
    "  #- **2D arrays**:\n",
    "   # - `fliplr()` flips the columns (left to right).\n",
    "   # - `flipud()` flips the rows (top to bottom).\n",
    " # - **Higher-dimensional arrays**:\n",
    "  #  - These functions will still operate only on the first or second axes, respectively. For arrays with more than 2 dimensions (e.g., 3D), `flipud()` affects the \"rows\" along axis 0, and `fliplr()` affects the \"columns\" along axis 1."
   ]
  },
  {
   "cell_type": "code",
   "execution_count": 135,
   "id": "592ddb40-9a09-46f4-9640-25923b21e249",
   "metadata": {},
   "outputs": [
    {
     "name": "stdout",
     "output_type": "stream",
     "text": [
      "Original array:\n",
      "[[1 2 3]\n",
      " [4 5 6]\n",
      " [7 8 9]]\n",
      "Array after fliplr:\n",
      "[[3 2 1]\n",
      " [6 5 4]\n",
      " [9 8 7]]\n"
     ]
    }
   ],
   "source": [
    "import numpy as np\n",
    "\n",
    "array_2d = np.array([[1, 2, 3], \n",
    "                     [4, 5, 6], \n",
    "                     [7, 8, 9]])\n",
    "\n",
    "flipped_lr = np.fliplr(array_2d)\n",
    "\n",
    "print(\"Original array:\")\n",
    "print(array_2d)\n",
    "\n",
    "print(\"Array after fliplr:\")\n",
    "print(flipped_lr)"
   ]
  },
  {
   "cell_type": "code",
   "execution_count": 137,
   "id": "fbf19347-8663-4a82-babd-d6696d6ff1d7",
   "metadata": {},
   "outputs": [
    {
     "name": "stdout",
     "output_type": "stream",
     "text": [
      "Original array:\n",
      "[[1 2 3]\n",
      " [4 5 6]\n",
      " [7 8 9]]\n",
      "\n",
      "Array after flipud:\n",
      "[[7 8 9]\n",
      " [4 5 6]\n",
      " [1 2 3]]\n"
     ]
    }
   ],
   "source": [
    "flipped_ud = np.flipud(array_2d)\n",
    "\n",
    "print(\"Original array:\")\n",
    "print(array_2d)\n",
    "\n",
    "print(\"\\nArray after flipud:\")\n",
    "print(flipped_ud)"
   ]
  },
  {
   "cell_type": "markdown",
   "id": "781dc57b-8605-4370-8b64-e5700bf7a7b2",
   "metadata": {},
   "source": [
    "9. Discuss the functionality of the array_split() method in NumPy. How does it handle uneven splits?\n"
   ]
  },
  {
   "cell_type": "code",
   "execution_count": 140,
   "id": "d228c5dd-7a08-4363-bfc2-a2e07cc0f3e6",
   "metadata": {},
   "outputs": [],
   "source": [
    "#The `array_split()` method in NumPy is used to divide an array into multiple sub-arrays. It is a flexible tool for splitting arrays, especially when you don’t know the exact number of elements or when the number of elements cannot be perfectly divided by the specified number of splits.\n",
    "\n",
    "# Functionality of `array_split()`\n",
    "\n",
    "#The `array_split()` function splits an array into multiple sub-arrays along a specified axis. This method is useful for dividing a large dataset into smaller chunks, and it works with both 1D and multi-dimensional arrays.\n",
    "\n",
    "# Syntax:\n",
    "#numpy.array_split(ary, indices_or_sections, axis=0)\n",
    "\n",
    "#- `ary`: The array to be split.\n",
    "#- `indices_or_sections`: Can be an integer or a list/array of indices.\n",
    "#- If it's an integer, it specifies the number of equal-sized sub-arrays you want to split the array into.\n",
    "# - If it's a list or array of indices, it defines the points at which to split the array.\n",
    "#- `axis`: The axis along which to split (default is 0, which splits the array along rows for 2D arrays). \n",
    "\n",
    "# Handling Uneven Splits\n",
    "\n",
    "#One of the key features of `array_split()` is how it handles **uneven splits**. When the total number of elements in the array cannot be evenly divided by the number of requested splits, `array_split()` automatically distributes the elements as evenly as possible, but some sub-arrays may contain more elements than others.\n",
    "\n",
    "#For instance, if you try to split an array of size 10 into 3 parts, `array_split()` will return 3 sub-arrays where:\n",
    "#- Two of the sub-arrays will have 3 elements.\n",
    "#- One of the sub-arrays will have 4 elements."
   ]
  },
  {
   "cell_type": "markdown",
   "id": "9f0295ef-68dd-48c9-af1e-9405cb54fc4e",
   "metadata": {},
   "source": [
    "10. Explain the concepts of vectorization and broadcasting in NumPy. How do they contribute to efficient array \n",
    "operations?"
   ]
  },
  {
   "cell_type": "code",
   "execution_count": 143,
   "id": "3c1863db-8139-4413-9ecf-4b038bd62d51",
   "metadata": {},
   "outputs": [],
   "source": [
    "#In NumPy, **vectorization** and **broadcasting** are powerful concepts that greatly enhance the efficiency of array operations, making them faster and more memory-efficient compared to using traditional Python loops.\n",
    "\n",
    "# 1. **Vectorization in NumPy**\n",
    "#Vectorization refers to the process of writing operations that can be applied to entire arrays (or large portions of arrays) without the need for explicit loops. This is done by using NumPy's built-in functions and operations, which are implemented in optimized C code and internally make use of low-level hardware capabilities like SIMD (Single Instruction, Multiple Data) instructions.\n",
    "\n",
    "# How Vectorization Works\n",
    "#Instead of using Python loops to perform operations on each element of an array (which can be slow), vectorized operations apply the operation directly to the entire array or a part of it. This leads to a significant speedup.\n",
    "\n",
    "#For example, if you want to add a constant value to every element in an array, you can use vectorized operations instead of looping through the array manually.\n",
    "\n",
    "#NumPy allows you to perform the operation directly on the whole array in a single line, making the code cleaner and faster.\n",
    "\n",
    "# Performance Benefits of Vectorization:\n",
    "#- **Faster execution**: Operations are executed in optimized, low-level code (often written in C or Fortran), leveraging CPU optimizations.\n",
    "#- **Concise code**: Without the need for explicit loops, code becomes shorter and easier to read.\n",
    "#- **Parallelism**: Many vectorized operations can be parallelized across multiple processor cores, improving performance for large arrays.\n",
    "\n",
    "# 2. **Broadcasting in NumPy**\n",
    "#Broadcasting is a set of rules that allow NumPy to perform element-wise operations on arrays of different shapes, without the need for explicit replication of data. When performing operations between arrays of different shapes, broadcasting automatically \"expands\" the smaller array to match the shape of the larger array so that the operation can be applied element-wise.\n",
    "\n",
    "# Broadcasting Rules:\n",
    "#1. **The dimensions of the arrays must be compatible.**\n",
    " #  - If the arrays have different numbers of dimensions, the shape of the smaller array is padded with ones on the left until both shapes are of equal length.\n",
    "#2. **Arrays are broadcast to the shape of the larger array**. The dimensions of the smaller array are stretched (repeated) to match the shape of the larger array, but this happens without copying the data. The array’s original data is still reused.\n",
    "\n",
    "\n",
    "\n",
    "# Broadcasting Rules in Detail:\n",
    "#1. **If the arrays have different numbers of dimensions,** NumPy adds 1s to the left of the smaller array’s shape until both shapes have the same length.\n",
    "#2. **When the shapes are aligned,** the operation is done element-wise. If one of the dimensions is 1, it is broadcast across the larger dimension.\n",
    "#3. **The operation can only proceed if dimensions are either equal or one of them is 1.** If none of these conditions is met, a `ValueError` is raised.\n",
    "\n",
    "# Performance Benefits of Broadcasting:\n",
    "#- **Memory Efficiency**: Broadcasting avoids the need for creating copies of arrays by repeating data. Instead, it uses the existing data efficiently.\n",
    "#- **Speed**: Broadcasting allows NumPy to perform operations on arrays of different shapes in a single pass, avoiding the need for explicit loops or replication, which reduces computational overhead.\n",
    "#- **Simplified Code**: Broadcasting reduces the need for manually reshaping or replicating arrays, making the code cleaner and easier to maintain.\n",
    "\n",
    "# How Vectorization and Broadcasting Contribute to Efficient Array Operations\n",
    "\n",
    "#1. **Vectorization**:\n",
    " #  - Reduces the need for Python-level for loops.\n",
    " # - Leverages fast, low-level implementations in C.\n",
    " #- Makes operations concise and readable, which improves development efficiency.\n",
    " #- Improves execution speed for numerical operations by taking advantage of CPU optimizations.\n",
    "\n",
    "#2. **Broadcasting**:\n",
    " #  - Allows for operations on arrays with different shapes without explicit reshaping or replication.\n",
    " #  - Saves memory by not duplicating data and instead using existing memory efficiently.\n",
    " #  - Provides a flexible way to perform element-wise operations on arrays of varying shapes, making it easier to handle complex operations with less code."
   ]
  },
  {
   "cell_type": "code",
   "execution_count": null,
   "id": "6dd24a9a-a19a-42d4-892c-0f7f78bffb29",
   "metadata": {},
   "outputs": [],
   "source": []
  },
  {
   "cell_type": "markdown",
   "id": "f97addc8-2030-4151-ad30-ec0af245fee3",
   "metadata": {},
   "source": [
    "Practical Questions:"
   ]
  },
  {
   "cell_type": "markdown",
   "id": "beeca526-b9bc-41e7-97c9-555bc7fc842d",
   "metadata": {},
   "source": [
    "1. Create a 3x3 NumPy array with random integers between 1 and 100. Then, interchange its rows and columns."
   ]
  },
  {
   "cell_type": "code",
   "execution_count": 154,
   "id": "02f47d8f-6516-4ac7-b9a1-bcf70c853e58",
   "metadata": {},
   "outputs": [
    {
     "name": "stdout",
     "output_type": "stream",
     "text": [
      "Original Array:\n",
      "[[84  8 58]\n",
      " [28 25 99]\n",
      " [67 16 16]]\n",
      "\n",
      "Transposed Array (interchanged rows and columns):\n",
      "[[66 17 30]\n",
      " [ 2 88 34]\n",
      " [45 67 29]]\n"
     ]
    }
   ],
   "source": [
    "import numpy as np\n",
    "\n",
    "array = np.random.randint(1, 101,(3, 3))\n",
    "print(\"Original Array:\")\n",
    "print(array)\n",
    "\n",
    "print(\"\\nTransposed Array (interchanged rows and columns):\")\n",
    "print(transposed_array)\n"
   ]
  },
  {
   "cell_type": "markdown",
   "id": "c3c2742a-e4c5-4191-9450-e9d04f0863a8",
   "metadata": {},
   "source": [
    "2. Generate a 1D NumPy array with 10 elements. Reshape it into a 2x5 array, then into a 5x2 array.\n"
   ]
  },
  {
   "cell_type": "code",
   "execution_count": 157,
   "id": "5c14838f-a204-40f8-a299-5280a52a3de0",
   "metadata": {},
   "outputs": [
    {
     "name": "stdout",
     "output_type": "stream",
     "text": [
      "Original 1D Array:\n",
      "[ 1  2  3  4  5  6  7  8  9 10]\n",
      "\n",
      "Reshaped to 2x5 Array:\n",
      "[[ 1  2  3  4  5]\n",
      " [ 6  7  8  9 10]]\n",
      "\n",
      "Reshaped to 5x2 Array:\n",
      "[[ 1  2]\n",
      " [ 3  4]\n",
      " [ 5  6]\n",
      " [ 7  8]\n",
      " [ 9 10]]\n"
     ]
    }
   ],
   "source": [
    "import numpy as np\n",
    "array_1d = np.arange(1, 11)  # Generate array with values from 1 to 10\n",
    "\n",
    "# Step 2: Reshape it into a 2x5 array\n",
    "array_2x5 = array_1d.reshape(2, 5)\n",
    "\n",
    "# Step 3: Reshape it into a 5x2 array\n",
    "array_5x2 = array_1d.reshape(5, 2)\n",
    "\n",
    "# Display the original and reshaped arrays\n",
    "print(\"Original 1D Array:\")\n",
    "print(array_1d)\n",
    "\n",
    "print(\"\\nReshaped to 2x5 Array:\")\n",
    "print(array_2x5)\n",
    "\n",
    "print(\"\\nReshaped to 5x2 Array:\")\n",
    "print(array_5x2)\n"
   ]
  },
  {
   "cell_type": "markdown",
   "id": "c2ccde8e-fd5c-4a1f-9f3d-9cbab170f16e",
   "metadata": {},
   "source": [
    "3. Create a 4x4 NumPy array with random float values. Add a border of zeros around it, resulting in a 6x6 array.\n"
   ]
  },
  {
   "cell_type": "code",
   "execution_count": 162,
   "id": "b44a446b-8ba8-4824-94b1-68b6c1d9d937",
   "metadata": {},
   "outputs": [
    {
     "name": "stdout",
     "output_type": "stream",
     "text": [
      "Original 4x4 Array:\n",
      "[[0.62586316 0.12271509 0.77942598 0.07048149]\n",
      " [0.51849938 0.62557857 0.05084538 0.13594574]\n",
      " [0.4975425  0.73503075 0.23847852 0.67434034]\n",
      " [0.60205867 0.01610436 0.90491058 0.2415147 ]]\n",
      "\n",
      "Array with a border of zeros (6x6):\n",
      "[[0.         0.         0.         0.         0.         0.        ]\n",
      " [0.         0.62586316 0.12271509 0.77942598 0.07048149 0.        ]\n",
      " [0.         0.51849938 0.62557857 0.05084538 0.13594574 0.        ]\n",
      " [0.         0.4975425  0.73503075 0.23847852 0.67434034 0.        ]\n",
      " [0.         0.60205867 0.01610436 0.90491058 0.2415147  0.        ]\n",
      " [0.         0.         0.         0.         0.         0.        ]]\n"
     ]
    }
   ],
   "source": [
    "import numpy as np\n",
    "\n",
    "# Step 1: Create a 4x4 NumPy array with random float values between 0 and 1\n",
    "array_4x4 = np.random.rand(4, 4)\n",
    "\n",
    "# Step 2: Add a border of zeros around the 4x4 array to make it a 6x6 array\n",
    "array_with_border = np.pad(array_4x4, pad_width=1, mode='constant', constant_values=0)\n",
    "\n",
    "# Display the original array and the array with the border\n",
    "print(\"Original 4x4 Array:\")\n",
    "print(array_4x4)\n",
    "\n",
    "print(\"\\nArray with a border of zeros (6x6):\")\n",
    "print(array_with_border)\n"
   ]
  },
  {
   "cell_type": "markdown",
   "id": "cee5805f-91d4-4f5c-a8e8-e234f46d3b99",
   "metadata": {},
   "source": [
    "4. Using NumPy, create an array of integers from 10 to 60 with a step of 5.\n"
   ]
  },
  {
   "cell_type": "code",
   "execution_count": 168,
   "id": "65eab13e-a164-45bd-954c-29b5ede6934c",
   "metadata": {},
   "outputs": [
    {
     "name": "stdout",
     "output_type": "stream",
     "text": [
      "[10 15 20 25 30 35 40 45 50 55]\n"
     ]
    }
   ],
   "source": [
    "import numpy as np\n",
    "\n",
    "# Create an array of integers from 10 to 60 with a step of 5\n",
    "array = np.arange(10, 59, 5)\n",
    "\n",
    "# Display the array\n",
    "print(array)"
   ]
  },
  {
   "cell_type": "markdown",
   "id": "f0564b70-8828-4fbd-bbf9-9ee547f09b19",
   "metadata": {},
   "source": [
    "5. Create a NumPy array of strings ['python', 'numpy', 'pandas']. Apply different case transformations \n",
    "(uppercase, lowercase, title case, etc.) to each element"
   ]
  },
  {
   "cell_type": "code",
   "execution_count": 175,
   "id": "b630076b-a57f-41f9-bf70-c92d98a653ac",
   "metadata": {},
   "outputs": [
    {
     "name": "stdout",
     "output_type": "stream",
     "text": [
      "Original Array:\n",
      "['python' 'numpy' 'pandas']\n",
      "\n",
      "Uppercase:\n",
      "['PYTHON' 'NUMPY' 'PANDAS']\n",
      "\n",
      "Lowercase:\n",
      "['python' 'numpy' 'pandas']\n",
      "\n",
      "Title Case:\n",
      "['Python' 'Numpy' 'Pandas']\n",
      "\n",
      "Capitalize Case:\n",
      "['Python' 'Numpy' 'Pandas']\n"
     ]
    }
   ],
   "source": [
    "import numpy as np\n",
    "\n",
    "# Create a NumPy array of strings\n",
    "array = np.array(['python', 'numpy', 'pandas'])\n",
    "\n",
    "# Apply different case transformations\n",
    "upper_case = np.char.upper(array)       # Convert all strings to uppercase\n",
    "lower_case = np.char.lower(array)       # Convert all strings to lowercase\n",
    "title_case = np.char.title(array)       # Convert all strings to title case\n",
    "capitalize_case = np.char.capitalize(array)  # Capitalize the first letter of each string\n",
    "\n",
    "# Display the original and transformed arrays\n",
    "print(\"Original Array:\")\n",
    "print(array)\n",
    "\n",
    "print(\"\\nUppercase:\")\n",
    "print(upper_case)\n",
    "\n",
    "print(\"\\nLowercase:\")\n",
    "print(lower_case)\n",
    "\n",
    "print(\"\\nTitle Case:\")\n",
    "print(title_case)\n",
    "\n",
    "print(\"\\nCapitalize Case:\")\n",
    "print(capitalize_case)\n"
   ]
  },
  {
   "cell_type": "markdown",
   "id": "0fbca165-e448-44e1-84b2-794b7d84e516",
   "metadata": {},
   "source": [
    "6. Generate a NumPy array of words. Insert a space between each character of every word in the array.\n"
   ]
  },
  {
   "cell_type": "code",
   "execution_count": 178,
   "id": "7d289c9a-3501-4c67-8b43-229ebbae6853",
   "metadata": {},
   "outputs": [
    {
     "name": "stdout",
     "output_type": "stream",
     "text": [
      "Original Array:\n",
      "['python' 'numpy' 'pandas']\n",
      "\n",
      "Array with spaces between characters:\n",
      "['python ' 'numpy ' 'pandas ']\n"
     ]
    }
   ],
   "source": [
    "import numpy as np\n",
    "\n",
    "# Create a NumPy array of words\n",
    "words_array = np.array(['python', 'numpy', 'pandas'])\n",
    "\n",
    "# Insert a space between each character of every word\n",
    "words_with_spaces = np.char.add(np.char.array(list(words_array)), ' ')\n",
    "\n",
    "# Display the original and transformed arrays\n",
    "print(\"Original Array:\")\n",
    "print(words_array)\n",
    "\n",
    "print(\"\\nArray with spaces between characters:\")\n",
    "print(words_with_spaces)"
   ]
  },
  {
   "cell_type": "markdown",
   "id": "867a074f-a474-4fd5-8a90-a04ef2ba98c3",
   "metadata": {},
   "source": [
    "7. Create two 2D NumPy arrays and perform element-wise addition, subtraction, multiplication, and division.\n"
   ]
  },
  {
   "cell_type": "code",
   "execution_count": 187,
   "id": "85228d42-0840-48a2-8243-0fe4b505988f",
   "metadata": {
    "scrolled": true
   },
   "outputs": [
    {
     "name": "stdout",
     "output_type": "stream",
     "text": [
      "Array 1:\n",
      "[[1 2 3]\n",
      " [4 5 6]]\n",
      "\n",
      "Array 2:\n",
      "[[6 5 4]\n",
      " [3 2 1]]\n",
      "\n",
      "Element-wise Addition:\n",
      "[[7 7 7]\n",
      " [7 7 7]]\n",
      "\n",
      "Element-wise Subtraction:\n",
      "[[-5 -3 -1]\n",
      " [ 1  3  5]]\n",
      "\n",
      "Element-wise Multiplication:\n",
      "[[ 6 10 12]\n",
      " [12 10  6]]\n",
      "\n",
      "Element-wise Division:\n",
      "[[0.16666667 0.4        0.75      ]\n",
      " [1.33333333 2.5        6.        ]]\n"
     ]
    }
   ],
   "source": [
    "import numpy as np\n",
    "\n",
    "# Create two 2D NumPy arrays\n",
    "array1 = np.array([[1, 2, 3], [4, 5, 6]])\n",
    "array2 = np.array([[6, 5, 4], [3, 2, 1]])\n",
    "\n",
    "# Perform element-wise addition\n",
    "addition = array1 + array2\n",
    "\n",
    "# Perform element-wise subtraction\n",
    "subtraction = array1 - array2\n",
    "\n",
    "# Perform element-wise multiplication\n",
    "multiplication = array1 * array2\n",
    "\n",
    "# Perform element-wise division\n",
    "division = array1 / array2\n",
    "\n",
    "# Display the results\n",
    "print(\"Array 1:\")\n",
    "print(array1)\n",
    "\n",
    "print(\"\\nArray 2:\")\n",
    "print(array2)\n",
    "\n",
    "print(\"\\nElement-wise Addition:\")\n",
    "print(addition)\n",
    "\n",
    "print(\"\\nElement-wise Subtraction:\")\n",
    "print(subtraction)\n",
    "\n",
    "print(\"\\nElement-wise Multiplication:\")\n",
    "print(multiplication)\n",
    "\n",
    "print(\"\\nElement-wise Division:\")\n",
    "print(division)"
   ]
  },
  {
   "cell_type": "markdown",
   "id": "21b77c6f-b9be-4b73-842a-168c5362f6d3",
   "metadata": {},
   "source": [
    "8. Use NumPy to create a 5x5 identity matrix, then extract its diagonal elements.\n"
   ]
  },
  {
   "cell_type": "code",
   "execution_count": 190,
   "id": "b788d368-d4cd-4c4b-b377-f4ce6a3fa09b",
   "metadata": {},
   "outputs": [
    {
     "name": "stdout",
     "output_type": "stream",
     "text": [
      "5x5 Identity Matrix:\n",
      "[[1. 0. 0. 0. 0.]\n",
      " [0. 1. 0. 0. 0.]\n",
      " [0. 0. 1. 0. 0.]\n",
      " [0. 0. 0. 1. 0.]\n",
      " [0. 0. 0. 0. 1.]]\n",
      "\n",
      "Diagonal Elements:\n",
      "[1. 1. 1. 1. 1.]\n"
     ]
    }
   ],
   "source": [
    "import numpy as np\n",
    "\n",
    "# Step 1: Create a 5x5 identity matrix\n",
    "identity_matrix = np.eye(5)\n",
    "\n",
    "# Step 2: Extract the diagonal elements\n",
    "diagonal_elements = identity_matrix.diagonal()\n",
    "\n",
    "# Display the identity matrix and its diagonal elements\n",
    "print(\"5x5 Identity Matrix:\")\n",
    "print(identity_matrix)\n",
    "\n",
    "print(\"\\nDiagonal Elements:\")\n",
    "print(diagonal_elements)"
   ]
  },
  {
   "cell_type": "markdown",
   "id": "70d9c012-1224-47d4-a312-47b12d848eaa",
   "metadata": {},
   "source": [
    "9. Generate a NumPy array of 100 random integers between 0 and 1000. Find and display all prime numbers in \n",
    "this array."
   ]
  },
  {
   "cell_type": "code",
   "execution_count": 193,
   "id": "8f8e8f65-e97a-4678-a7e4-00c6d556cb77",
   "metadata": {},
   "outputs": [
    {
     "name": "stdout",
     "output_type": "stream",
     "text": [
      "Random Integers:\n",
      "[  4 409 197 833 141 961 440 345  38  22 509 131 827 190 275  73 547 909\n",
      " 786 886 857 591  95 113 504 619 653 525 408 671 574 220  29 640  24  25\n",
      " 607 572 352 591  88 663 919 307 735  88 273 704 823 888 587 985 703 373\n",
      " 241 711 125   2 958 456 775 935 269 694  51 332 954 326  42 938 822 596\n",
      " 909 170 376 521 283 599 873 776 455 771 100 985 218 672 791 391 256 522\n",
      " 780 955 969  30 119 257 192 103 559 161]\n",
      "\n",
      "Prime Numbers in the Array:\n",
      "[409, 197, 509, 131, 827, 73, 547, 857, 113, 619, 653, 29, 607, 919, 307, 823, 587, 373, 241, 2, 269, 521, 283, 599, 257, 103]\n"
     ]
    }
   ],
   "source": [
    "import numpy as np\n",
    "\n",
    "# Step 1: Generate a NumPy array of 100 random integers between 0 and 1000\n",
    "random_integers = np.random.randint(0, 1001, 100)\n",
    "\n",
    "# Step 2: Define a function to check if a number is prime\n",
    "def is_prime(num):\n",
    "    if num < 2:\n",
    "        return False\n",
    "    for i in range(2, int(num ** 0.5) + 1):\n",
    "        if num % i == 0:\n",
    "            return False\n",
    "    return True\n",
    "\n",
    "# Step 3: Apply the is_prime function to each element in the array\n",
    "prime_numbers = [num for num in random_integers if is_prime(num)]\n",
    "\n",
    "# Step 4: Display the prime numbers\n",
    "print(\"Random Integers:\")\n",
    "print(random_integers)\n",
    "\n",
    "print(\"\\nPrime Numbers in the Array:\")\n",
    "print(prime_numbers)"
   ]
  },
  {
   "cell_type": "markdown",
   "id": "f76960a5-130e-41b4-8bb0-57c931f8f02e",
   "metadata": {},
   "source": [
    "10. Create a NumPy array representing daily temperatures for a month. Calculate and display the weekly \n",
    "averages."
   ]
  },
  {
   "cell_type": "code",
   "execution_count": 220,
   "id": "6f253059-e78d-4445-b143-f867e02954e2",
   "metadata": {},
   "outputs": [
    {
     "name": "stdout",
     "output_type": "stream",
     "text": [
      "Daily Temperatures for the Month:\n",
      "[22 17 30 22 17 34 22 15 15 31 29 17 31 19 33 33 35 27 16 30 15 29 18 32\n",
      " 28 15 33 18]\n",
      "\n",
      "Weekly Temperatures (4 weeks x 7 days):\n",
      "[[22 17 30 22 17 34 22]\n",
      " [15 15 31 29 17 31 19]\n",
      " [33 33 35 27 16 30 15]\n",
      " [29 18 32 28 15 33 18]]\n",
      "\n",
      "Weekly Averages:\n",
      "[23.42857143 22.42857143 27.         24.71428571]\n"
     ]
    }
   ],
   "source": [
    "import numpy as np\n",
    "\n",
    "daily_temperatures = np.random.randint(15, 36, size=28)\n",
    "\n",
    "weekly_temperatures = daily_temperatures.reshape(4, 7)\n",
    "\n",
    "weekly_averages = weekly_temperatures.mean(axis=1)\n",
    "\n",
    "print(\"Daily Temperatures for the Month:\")\n",
    "print(daily_temperatures)\n",
    "\n",
    "print(\"\\nWeekly Temperatures (4 weeks x 7 days):\")\n",
    "print(weekly_temperatures)\n",
    "\n",
    "print(\"\\nWeekly Averages:\")\n",
    "print(weekly_averages)\n"
   ]
  },
  {
   "cell_type": "code",
   "execution_count": null,
   "id": "be33c909-5125-4813-81d9-17e2248d7c05",
   "metadata": {},
   "outputs": [],
   "source": []
  }
 ],
 "metadata": {
  "kernelspec": {
   "display_name": "Python 3 (ipykernel)",
   "language": "python",
   "name": "python3"
  },
  "language_info": {
   "codemirror_mode": {
    "name": "ipython",
    "version": 3
   },
   "file_extension": ".py",
   "mimetype": "text/x-python",
   "name": "python",
   "nbconvert_exporter": "python",
   "pygments_lexer": "ipython3",
   "version": "3.12.4"
  }
 },
 "nbformat": 4,
 "nbformat_minor": 5
}
